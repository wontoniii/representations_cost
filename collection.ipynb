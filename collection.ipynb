{
 "cells": [
  {
   "cell_type": "markdown",
   "metadata": {},
   "source": [
    "# Evaluating the cost of feature collection\n",
    "\n",
    "In this lab, you will work through the steps necessary to evaluate the systems cost of collecting statistics from raw network traffic. Using the provided [notebook](collection.ipynb) you will:\n",
    "\n",
    "1. Learn how to execute cost evaluation using [Traffic Refinery](https://traffic-refinery.github.io).\n",
    "2. Study the differences in cost for network and video features (as used by inference models for inferring the quality of video streaming services from encrypted traffic).\n",
    "3. Create your own features and compare them.  \n",
    "\n",
    "**Note:** In this course, you will focus on the CPU time as a metric of cost. Other metrics are available in traffic refinery such as memory and storage."
   ]
  },
  {
   "cell_type": "markdown",
   "metadata": {},
   "source": [
    "## Executing the cost profiler on real traces"
   ]
  },
  {
   "cell_type": "code",
   "execution_count": null,
   "metadata": {},
   "outputs": [],
   "source": [
    "import subprocess\n",
    "import shlex\n",
    "\n",
    "cmd = \"sh run_profile.sh\"\n",
    "args = shlex.split(cmd)\n",
    "output = subprocess.check_output(args)\n",
    "print(output.decode(\"utf-8\"))"
   ]
  },
  {
   "cell_type": "code",
   "execution_count": null,
   "metadata": {},
   "outputs": [],
   "source": [
    "import matplotlib.pyplot as plt\n",
    "import seaborn as sns\n",
    "import pandas as pd\n",
    "import numpy as np\n",
    "import json\n",
    "\n",
    "text_file = open(\"/home/notebooks/out/all_results_cpu.json\")\n",
    "ev = json.load(text_file)\n",
    "avgs = []\n",
    "for i in ev:\n",
    "  avgs.append(i['Total_Time'])\n",
    "\n",
    "df = pd.DataFrame({'Total_Time':avgs, 'Type': np.full(shape=(len(avgs)), fill_value='PacketCounters')})\n",
    "  \n",
    "sns.boxplot(df, x='Type', y='Total_Time', linewidth=2.5)\n",
    "plt.ylabel('Average time per packet (ms)')"
   ]
  },
  {
   "cell_type": "markdown",
   "metadata": {},
   "source": [
    "## Adding existing features to profile\n",
    "\n",
    "Try to add video counters to the pipeline execution and see what happens. To do so, open the file [trconfig.json](trconfig.json) and add `\"VideoCounters\"` to the list found at line 48.\n",
    "\n",
    "Once done, report here the new results."
   ]
  },
  {
   "cell_type": "code",
   "execution_count": null,
   "metadata": {},
   "outputs": [],
   "source": [
    "# Run and plot the results for the combined counters here"
   ]
  },
  {
   "cell_type": "markdown",
   "metadata": {},
   "source": [
    "There are many more features available for test, you can try to to profile them"
   ]
  },
  {
   "cell_type": "markdown",
   "metadata": {},
   "source": [
    "## Creating your own features\n",
    "\n",
    "Traffic refinery enables you to create your own features and rapidly profile them. Creating new features requires:\n",
    "1. Create a new file inside the [traffic_refinery/internal/counters/](traffic_refinery/internal/counters/) folder. The file can be called anything you want, as long as it has `.go` extension.\n",
    "2. To implement the new feature, you can take inspiration inspiration from the [PacketCounters](traffic_refinery/internal/counters/packetcounter.go). You will have to define one new structure and five functions (`AddPacket`, `Reset`, `Clear`, `Type`, `Collect`). Four out of five of these functions are relatively easy to implement, more focus will be required to implement `AddPacket`."
   ]
  },
  {
   "cell_type": "markdown",
   "metadata": {},
   "source": [
    "#### Video counters\n",
    "As a first exercise, try to implement the video counters, similarly to what you did during the last lab (don't peak inside the `videocounter.go` file). How does your code compares to the `VideoCounters` executed before?"
   ]
  },
  {
   "cell_type": "markdown",
   "metadata": {},
   "source": [
    "#### Your counters\n",
    "Try now to implement your feature. Think of something interesting to collect and go for it :)"
   ]
  },
  {
   "cell_type": "markdown",
   "metadata": {},
   "source": [
    "*Once you have completed your analysis, report here your findings (a plot plus a couple lines to explain will suffice)*"
   ]
  }
 ],
 "metadata": {
  "kernelspec": {
   "display_name": "Python 3",
   "language": "python",
   "name": "python3"
  },
  "language_info": {
   "codemirror_mode": {
    "name": "ipython",
    "version": 3
   },
   "file_extension": ".py",
   "mimetype": "text/x-python",
   "name": "python",
   "nbconvert_exporter": "python",
   "pygments_lexer": "ipython3",
   "version": "3.11.2"
  }
 },
 "nbformat": 4,
 "nbformat_minor": 2
}
